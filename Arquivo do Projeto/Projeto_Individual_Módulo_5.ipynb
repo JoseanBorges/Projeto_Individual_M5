{
  "nbformat": 4,
  "nbformat_minor": 0,
  "metadata": {
    "colab": {
      "provenance": [],
      "authorship_tag": "ABX9TyM/0s2dcGu9DNZzAYIbwkl6",
      "include_colab_link": true
    },
    "kernelspec": {
      "name": "python3",
      "display_name": "Python 3"
    },
    "language_info": {
      "name": "python"
    }
  },
  "cells": [
    {
      "cell_type": "markdown",
      "metadata": {
        "id": "view-in-github",
        "colab_type": "text"
      },
      "source": [
        "<a href=\"https://colab.research.google.com/github/JoseanBorges/Projeto_Individual_M5/blob/main/Arquivo%20do%20Projeto/Projeto_Individual_M%C3%B3dulo_5.ipynb\" target=\"_parent\"><img src=\"https://colab.research.google.com/assets/colab-badge.svg\" alt=\"Open In Colab\"/></a>"
      ]
    },
    {
      "cell_type": "markdown",
      "source": [
        "#<font color=darkgreen font size=7> Projeto Individual - Módulo 5\n",
        "##<font color=darkgreen font size=6> Pessoas deixando a empresa"
      ],
      "metadata": {
        "id": "aJc1PtpLXtBn"
      }
    },
    {
      "cell_type": "markdown",
      "source": [
        "Bem vindo à visualização da pesquisa da com base no dataset \"Pessoas deixando a empresa\". Explorando este, tornou-se possivel visualmente interpretar diversos motivos para os quais as pessoas tinham certa tendência a deixar a empresa.\n",
        "\n",
        "É fundamental identificar as razões pelas quais os colaboradores estão abandonando a empresa para estabelecer táticas de otimização. Esta pesquisa examina os fatores de saída no departamento de marketing e apresenta recomendações respaldadas por um profundo exame de dados."
      ],
      "metadata": {
        "id": "wUK-U80dYMng"
      }
    },
    {
      "cell_type": "markdown",
      "source": [
        "- <font size=5>O que está sendo mostrado aqui?\n",
        "\n",
        "A pesquisa realizada pelo Parceiro de Negócios de Recursos Humanos (HRBP) destaca claramente uma dissonância entre as principais razões pelas quais os colaboradores deixam a empresa e os fatores que têm o potencial máximo de impactar negativamente. Enquanto \"Progressão de Carreira\" e \"Tipos de Trabalho\" lideram em frequência, eles não são necessariamente os que causam o maior impacto no bem-estar e satisfação dos funcionários. Por outro lado, \"Treinamento\", \"Conflito com Outros\" e \"Falta de Reconhecimento\" podem não ser tão frequentemente citados, mas têm uma ressonância profunda no moral dos colaboradores e em sua decisão de permanecer na empresa.\n",
        "\n",
        "No segundo gráfico, apesar da menor quantidade de respostas coletadas, é essencial não desconsiderar os dados apresentados. Pode haver diversas razões para essa discrepância nas respostas, como o método de coleta, o grupo demográfico pesquisado, ou até mesmo o momento em que a pesquisa foi realizada. Cada conjunto de dados oferece uma perspectiva única, e ambos são valiosos para compreender a complexidade da retenção de colaboradores.\n",
        "\n",
        "- <font size=5>Que observações você pode fazer a partir desses dados?\n",
        "\n",
        "Analisando conjuntamente esses dois gráficos, percebe-se a importância de não apenas focar nos motivos mais comuns de saída, mas também naqueles que têm um impacto substancial na experiência dos funcionários. Isso sugere a necessidade de uma abordagem multifacetada para abordar a retenção de colaboradores. Investir em treinamentos adequados, fomentar um ambiente de trabalho harmonioso e assegurar que os esforços e conquistas dos colaboradores sejam reconhecidos podem ser mais cruciais do que simplesmente abordar questões de progressão de carreira ou tipos de trabalho. Além disso, é vital revisar e adaptar constantemente as estratégias de coleta de feedback para garantir uma compreensão abrangente e atualizada das necessidades e desejos dos colaboradores.\n",
        "\n",
        "- <font size=5>O que não é ideal ou poderia ser evitado na visualização em sua forma atual? Que perguntas você faria ou que feedback daria para quem fez o gráfico?\n",
        "\n",
        "Primeiramente, gostaria de reconhecer o tempo e o esforço que você dedicou na criação desses gráficos. A intenção e os dados apresentados são valiosos e trazem insights importantes. No entanto, há algumas observações e sugestões que gostaria de compartilhar para que a visualização se torne ainda mais eficaz:\n",
        "\n",
        "**Clareza dos Dados:** Em gráficos de dispersão, a distinção entre os pontos e sua relação com os eixos é crucial. Se os pontos estão muito próximos ou sobrepostos, pode ser difícil para o observador identificar padrões. Será que poderíamos considerar ajustar a escala ou usar cores/transparência para distinguir os pontos que estão muito próximos?\n",
        "\n",
        "**Legenda e Rótulos:** A legenda e os rótulos devem ser claros e facilmente legíveis. Se estes estavam difíceis de distinguir ou interpretar, talvez possamos pensar em usar fontes maiores ou contrastantes.\n",
        "\n",
        "**Título e Descrição:** Um título claro e uma breve descrição podem ajudar a guiar o observador sobre o que ele está vendo e o que deve observar. Isso pode ser útil especialmente se os dados são complexos ou se o gráfico será apresentado a uma audiência diversa.\n",
        "\n",
        "**Simplificação:** Às vezes, menos é mais. Se havia muitas variáveis ou categorias representadas, talvez pudéssemos considerar simplificar ou dividir o gráfico em partes menores para uma interpretação mais clara."
      ],
      "metadata": {
        "id": "MT7Y40oW1hkV"
      }
    },
    {
      "cell_type": "markdown",
      "source": [
        "![Imagem Inicial](https://i.imgur.com/SC0u3wQ.png)"
      ],
      "metadata": {
        "id": "70IztZt0b_nS"
      }
    },
    {
      "cell_type": "markdown",
      "source": [
        "Ao primeiro contato com a imagem acima, foi possível obter diversos interpretações sobre este caso. Mas nenhuma delas deixou claro exatamente o motivo exato de pessoas cada vez mais deixarem a empresa. A visualização está deficiente de elementos que torne possível a interpretação por qualquer pessoa.\n",
        "\n",
        "- O gráfico 1(HR Business Partner Input) mostra um impacto consideravelmente alto em Tipo de Trabalho e Realocação.\n",
        "- O gráfico 2(Exit Survey) nos mostra uma predominância de impacto de saída na progressão de Carreira, e na sequência o Tipo de Trabalho.\n",
        "\n",
        "Contudo em uma análise mais detalhado, em diversas formas de visualização, podemos observar fatores de impactos relevantes nessas tomadas de decisões.\n",
        "\n",
        "Na figura a seguir, observe que a mesma imagem contém uma visualização mais comparativa em relação à anterior. Com a presença de escalas e permitindo também fazer uma análise interativa clicando neste [link](https://public.tableau.com/app/profile/josean.pereira.leite.borges/viz/ProjetoIndividual-Mdulo5/Visualizaodecomparaodas2anlises)."
      ],
      "metadata": {
        "id": "DZy3T2CgcqCN"
      }
    },
    {
      "cell_type": "markdown",
      "source": [
        "* <font size=5>Crie três maneiras diferentes de mostrar esses dados e liste quais são algumas vantagens e insuficiências de cada uma."
      ],
      "metadata": {
        "id": "ex6LDm0-6Tov"
      }
    },
    {
      "cell_type": "markdown",
      "source": [
        "****<u>Nota:</u>** Para uma interpretação mais confortável. Houve a tradução dos termos alí descritos em _inglês_.\n",
        "\n",
        "Observe que esta imagem tende a mostrar, principalmente a captação dos dados fazendo com que a margem de confiança não seja efetivamente proveitosa.\n",
        "\n",
        "Mais abaixo temos um gráfico do tipo heatmap onde é ressaltada a divergência de informações nas duas coletas. Esta visualização trás rápido entendimento de da quantidade em cada amostra."
      ],
      "metadata": {
        "id": "vtgN4h1mjB7h"
      }
    },
    {
      "cell_type": "markdown",
      "source": [
        "![Comparação](https://i.imgur.com/MqG6lWL.png)\n",
        "![Imgur](https://i.imgur.com/ah2ipsh.png)"
      ],
      "metadata": {
        "id": "MV1rze85g9wH"
      }
    },
    {
      "cell_type": "markdown",
      "source": [
        "Se pararmos para observar a diferença que há entre 'Pesquisa de Saída' e a pesquisa realizada pelo 'Parceiro de Negócios do HR' existem valores totalmente discrepantes, sem correlação alguma. Veja na figura abaixo as opções de consulta da correlação."
      ],
      "metadata": {
        "id": "X1zXGdzcCjFp"
      }
    },
    {
      "cell_type": "markdown",
      "source": [
        "![Imgur](https://i.imgur.com/ioJVOVL.png)\n",
        "![Imgur](https://i.imgur.com/1ZyhMRb.png)"
      ],
      "metadata": {
        "id": "H9XCZPBzk03n"
      }
    },
    {
      "cell_type": "markdown",
      "source": [
        "Analisando melhor estas visualizações podemos ter mais uma informação que fica em evidência nesta última imagem. Que é onde mostra a a taxa de saída por 'Realocação' é notável que exista Outlier. A seguir podemos ter a mesma visualização em um boxplot."
      ],
      "metadata": {
        "id": "1M0dnCI53tcP"
      }
    },
    {
      "cell_type": "markdown",
      "source": [
        "![Imgur](https://i.imgur.com/ugVNkNH.png)"
      ],
      "metadata": {
        "id": "Qa1lKydGCeOl"
      }
    },
    {
      "cell_type": "markdown",
      "source": [
        "+ <font size =5>Qual visualização representa melhor os dados e por quê?\n",
        "\n",
        "A visualização com maior clareza a ser observada é do gráfico de ***heatmap***, ele além de intuitivo abre visão ao destacar os valores com relevância tanto positivas como negativas. Seu contraste de cores possibilita uma leitura sem esforço."
      ],
      "metadata": {
        "id": "l__Y3R0X7r7-"
      }
    },
    {
      "cell_type": "markdown",
      "source": [
        "- <font size=5>Como você pode gerar essas informações em uma história orientada por dados para seu chefe?\n",
        "\n",
        "Não se trata apenas de números ou pontos em um gráfico. Trata-se de pessoas reais e suas experiências. Estamos diante de uma oportunidade. Podemos investir em treinamento, criar um ambiente de trabalho mais harmonioso, e assegurar que nossos colaboradores se sintam valorizados e reconhecidos. Ao fazer isso, não só abordamos os sintomas, como 'Progressão de Carreira', mas também chegamos ao coração do problema.\n",
        "\n",
        "É válido propor uma reavaliação das estratégias de retenção e feedback, usando esses dados como nosso guia. Vamos olhar além dos números e mergulhar nas histórias que eles contam. Juntos, podemos construir uma empresa na qual todos se sintam valorizados, compreendidos e, acima de tudo, felizes por fazer parte."
      ],
      "metadata": {
        "id": "-xPbHc32-QBp"
      }
    },
    {
      "cell_type": "markdown",
      "source": [
        "### <center><u> **Considerações finais**</u>\n",
        "\n",
        "Neste estudo, realizamos uma profunda análise dos dados corporativos para compreender as razões pelas quais os colaboradores estão saindo da empresa de marketing. Por meio do desenvolvimento de painéis dinâmicos e da meticulosa revisão dos dados, estabelecemos uma estratégia clara e pragmática. Armados com essas informações valiosas, os lideres de marketing em conjunto com o responsável por Recursos Humanos estão prontos para dar início a uma metamorfose, cultivando um local de trabalho que reconhece e desenvolve seu capital humano, visando um horizonte mais auspicioso para a instituição.\n",
        "\n",
        "Aferição dos Resultados das Iniciativas: Uma vez postas em prática as soluções sugeridas, é essencial efetuar revisões subsequentes para medir sua influência na manutenção dos talentos. Esta etapa assegura a validade das estratégias implementadas.\n",
        "\n",
        "Resposta Contínua da Equipe: Estabelecer uma via de comunicação constante com os colaboradores é de grande valia. Isto pode ser realizado através de avaliações periódicas de comprometimento ou um sistema de sugestões, permitindo que a equipe compartilhe suas inquietações e propostas de inovação continuamente.\n",
        "\n",
        "Adotando estas recomendações e refinando o processo de coleta de informações, a empresa estará em uma posição mais favorável para entender, tratar e solucionar desafios relacionados à permanência de talentos de forma mais estratégica e baseada em evidências. Esta abordagem fortalecerá um ambiente corporativo mais íntegro e florescente, beneficiando os colaboradores e a empresa como um todo."
      ],
      "metadata": {
        "id": "smT7gBRLkb5h"
      }
    }
  ]
}